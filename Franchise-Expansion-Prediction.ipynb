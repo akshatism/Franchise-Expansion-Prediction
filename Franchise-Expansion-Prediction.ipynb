{
 "cells": [
  {
   "cell_type": "markdown",
   "metadata": {},
   "source": [
    "# Franchise Expansion Prediction"
   ]
  },
  {
   "cell_type": "code",
   "execution_count": 28,
   "metadata": {},
   "outputs": [],
   "source": [
    "import matplotlib.pyplot as plt\n",
    "import numpy as np"
   ]
  },
  {
   "cell_type": "code",
   "execution_count": 2,
   "metadata": {},
   "outputs": [],
   "source": [
    "# Hypothesis Function for Linear Regression\n",
    "\n",
    "def hypothesis(thetarg, x):\n",
    "    return np.dot(x, thetarg)"
   ]
  },
  {
   "cell_type": "code",
   "execution_count": 3,
   "metadata": {},
   "outputs": [],
   "source": [
    "# Cost function used to calculate the error between hypothetic and actual value over m training examples\n",
    "\n",
    "def cost(x, y, thetarg, msize):\n",
    "    return float((1 / (2 * msize)) * np.dot((hypothesis(thetarg, x) - y).T, (hypothesis(thetarg, x) - y)))"
   ]
  },
  {
   "cell_type": "code",
   "execution_count": 23,
   "metadata": {},
   "outputs": [],
   "source": [
    "# Gradient Descent method to minimize cost function in configurable alpha and iterations\n",
    "\n",
    "def gradient_descent(x, y, thetarg, msize):\n",
    "    jvec = []\n",
    "    theta_history = []\n",
    "    for i in range(num_iterations):\n",
    "        theta_history.append(list(thetarg[:, 0]))\n",
    "        jvec.append(cost(x, y, thetarg, msize))\n",
    "        for j in range(len(thetarg)):\n",
    "            thetarg[j] = thetarg[j] - (alpha / msize) * np.sum((hypothesis(thetarg, x) - y) *\n",
    "                                                               np.array(x[:, j]).reshape(msize, 1))\n",
    "    return thetarg, theta_history, jvec"
   ]
  },
  {
   "cell_type": "code",
   "execution_count": 5,
   "metadata": {},
   "outputs": [],
   "source": [
    "# Loading file using numpy method loadtxt\n",
    "\n",
    "data = np.loadtxt(\"/Users/akshatkumar/Downloads/machine-learning-ex1/ex1/ex1data1.txt\", delimiter=',', usecols=[0, 1], unpack=True)"
   ]
  },
  {
   "cell_type": "markdown",
   "metadata": {},
   "source": [
    "### Training Data Vizualization"
   ]
  },
  {
   "cell_type": "code",
   "execution_count": 15,
   "metadata": {},
   "outputs": [
    {
     "data": {
      "text/plain": [
       "<matplotlib.collections.PathCollection at 0x11ac43390>"
      ]
     },
     "execution_count": 15,
     "metadata": {},
     "output_type": "execute_result"
    },
    {
     "data": {
      "image/png": "[encoded data removed]",
      "text/plain": [
       "<Figure size 432x288 with 1 Axes>"
      ]
     },
     "metadata": {},
     "output_type": "display_data"
    }
   ],
   "source": [
    "plt.title(\"Profit vs Population for existing restaurents\")\n",
    "plt.xlabel(\"Population of city in 10000s\")\n",
    "plt.ylabel(\"Profit in $10000s\")\n",
    "plt.scatter(data[0],data[1],color = 'r')"
   ]
  },
  {
   "cell_type": "code",
   "execution_count": 30,
   "metadata": {},
   "outputs": [],
   "source": [
    "# Converting input to m x n dimensional matrix where m are number of training examples and n are features\n",
    "X = np.transpose(np.array(data[:-1]))\n",
    "X = np.insert(X, 0, 1, axis=1)\n",
    "# Converting output to n dimensional vector\n",
    "Y = np.transpose(np.array(data[-1:]))"
   ]
  },
  {
   "cell_type": "markdown",
   "metadata": {},
   "source": [
    "### Setting Prameters for Linear Regression"
   ]
  },
  {
   "cell_type": "code",
   "execution_count": 37,
   "metadata": {},
   "outputs": [],
   "source": [
    "# Setting number of iteration for cost function to attain saturation value and alpha to decide the rate to reach optimum\n",
    "num_iterations = 2000\n",
    "alpha = 0.01\n",
    "m = Y.size\n",
    "theta = np.zeros([X.shape[1], 1])"
   ]
  },
  {
   "cell_type": "markdown",
   "metadata": {},
   "source": [
    "### Running Gradient Descent for cost function convergence"
   ]
  },
  {
   "cell_type": "code",
   "execution_count": 38,
   "metadata": {},
   "outputs": [],
   "source": [
    "theta_final, thetahist, cost_compute = gradient_descent(X, Y, theta, m)"
   ]
  },
  {
   "cell_type": "code",
   "execution_count": 39,
   "metadata": {},
   "outputs": [
    {
     "data": {
      "text/plain": [
       "array([[-3.79118595],\n",
       "       [ 1.18254485]])"
      ]
     },
     "execution_count": 39,
     "metadata": {},
     "output_type": "execute_result"
    }
   ],
   "source": [
    "theta_final"
   ]
  },
  {
   "cell_type": "markdown",
   "metadata": {},
   "source": [
    "### Cost Function decrease "
   ]
  },
  {
   "cell_type": "code",
   "execution_count": 40,
   "metadata": {},
   "outputs": [
    {
     "data": {
      "text/plain": [
       "32.072733877455676"
      ]
     },
     "execution_count": 40,
     "metadata": {},
     "output_type": "execute_result"
    }
   ],
   "source": [
    "iterations = list(range(1, num_iterations))\n",
    "cost_compute.pop(0)"
   ]
  },
  {
   "cell_type": "code",
   "execution_count": 45,
   "metadata": {},
   "outputs": [
    {
     "data": {
      "text/plain": [
       "4.477970964832771"
      ]
     },
     "execution_count": 45,
     "metadata": {},
     "output_type": "execute_result"
    }
   ],
   "source": [
    "cost_compute[len(cost_compute)-1]"
   ]
  },
  {
   "cell_type": "markdown",
   "metadata": {},
   "source": [
    "### Visualize Cost Function fall with increase in number of iterations"
   ]
  },
  {
   "cell_type": "code",
   "execution_count": 41,
   "metadata": {},
   "outputs": [
    {
     "data": {
      "text/plain": [
       "[<matplotlib.lines.Line2D at 0x11ad7fdd8>]"
      ]
     },
     "execution_count": 41,
     "metadata": {},
     "output_type": "execute_result"
    },
    {
     "data": {
      "image/png": "[encoded data removed]",
      "text/plain": [
       "<Figure size 432x288 with 1 Axes>"
      ]
     },
     "metadata": {},
     "output_type": "display_data"
    }
   ],
   "source": [
    "plt.title(\"Cost Function fall with iterations\")\n",
    "plt.xlabel(\"Number of iterations\")\n",
    "plt.ylabel(\"Cost Function\")\n",
    "plt.plot(iterations, cost_compute)"
   ]
  },
  {
   "cell_type": "markdown",
   "metadata": {},
   "source": [
    "### Fit Regression Line into the dataset"
   ]
  },
  {
   "cell_type": "code",
   "execution_count": 46,
   "metadata": {},
   "outputs": [
    {
     "data": {
      "text/plain": [
       "[<matplotlib.lines.Line2D at 0x11d6701d0>]"
      ]
     },
     "execution_count": 46,
     "metadata": {},
     "output_type": "execute_result"
    },
    {
     "data": {
      "image/png": "[encoded data removed]",
      "text/plain": [
       "<Figure size 432x288 with 1 Axes>"
      ]
     },
     "metadata": {},
     "output_type": "display_data"
    }
   ],
   "source": [
    "plt.title(\"Hypothesis Profit vs Population\")\n",
    "plt.xlabel(\"Population of city in 10000s\")\n",
    "plt.ylabel(\"Hypothesis Profit in $10000s \")\n",
    "plt.plot(X[:, 1], hypothesis(theta_final, X))"
   ]
  }
 ],
 "metadata": {
  "kernelspec": {
   "display_name": "Python 3",
   "language": "python",
   "name": "python3"
  },
  "language_info": {
   "codemirror_mode": {
    "name": "ipython",
    "version": 3
   },
   "file_extension": ".py",
   "mimetype": "text/x-python",
   "name": "python",
   "nbconvert_exporter": "python",
   "pygments_lexer": "ipython3",
   "version": "3.7.0"
  }
 },
 "nbformat": 4,
 "nbformat_minor": 2
}
